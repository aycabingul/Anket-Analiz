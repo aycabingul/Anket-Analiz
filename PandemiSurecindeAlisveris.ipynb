{
  "nbformat": 4,
  "nbformat_minor": 0,
  "metadata": {
    "kernelspec": {
      "name": "python3",
      "display_name": "Python 3"
    },
    "colab": {
      "name": "PandemiSurecindeAlisveris.ipynb",
      "provenance": [],
      "collapsed_sections": []
    }
  },
  "cells": [
    {
      "cell_type": "markdown",
      "metadata": {
        "id": "GfZRdMduYHya"
      },
      "source": [
        "# **Pandemi Döneminde Alışveriş Alışkanlıkları**\n",
        "\n",
        "Pandemi Döneminde Alışveriş Alışkanlıkları isimli anketimizden elde ettiğimiz veriler ile veri analizi yapacağız. Toplam 185 kişi anketimize yanıt verdi.\n",
        "\n",
        "Anketimize [buraya tıklayarak](https://docs.google.com/forms/d/e/1FAIpQLSf5Pc-elaam600ftE8O6QjSCmH8uQ76JvPr5f-lo8Li8XkVBg/viewform?usp=sf_link) ulaşabilirsiniz."
      ]
    },
    {
      "cell_type": "markdown",
      "metadata": {
        "id": "aezyOiUpiLK4"
      },
      "source": [
        "## **Veri Setindeki Değişkenler**"
      ]
    },
    {
      "cell_type": "markdown",
      "metadata": {
        "id": "OCdP55eNZX-g"
      },
      "source": [
        "\n",
        "\n",
        "**cinsiyet**: Cinsiyetiniz nedir?\n",
        "\n",
        "**yas**: Yaş aralığınız nedir?\n",
        "\n",
        "**gelir**: Gelir aralığınız nedir? (Türk Lirası)\n",
        "\n",
        "**meslek**: Mesleğiniz nedir?\n",
        "\n",
        "**egitim**: Eğitim durumunuz nedir?\n",
        "\n",
        "**alisveris_tercih**: Pandemi döneminde alışverişlerinizi nasıl yapmayı tercih ediyorsunuz?\n",
        "\n",
        "**alisveris_alan**: En çok hangi alanda internetten alışveriş yapıyorsunuz?\n",
        "\n",
        "**market_gida**: Market ve gıda alışverişlerinizde en çok kullandığınız platform hangisidir?\n",
        "\n",
        "**elektronik**: Elektronik ürün alışverişlerinizde en çok kullandığınız platform hangisidir?\n",
        "\n",
        "**giyim**: Giyim alışverişlerinizde en çok kullandığınız platform hangisidir?\n",
        "\n",
        "**satin_alma**: İnternet alışverişinin yaygınlaştığı bu dönemde satın alma sıklığınız arttı mı?\n",
        "\n",
        "**aliskanlik**: Lütfen internet alışverişlerinizde yaşadığınız durumları değerlendiriniz; [Pandemi\n",
        "sürecinde alışveriş alışkanlıklarım değişti.]\n",
        "\n",
        "**guven**: Lütfen internet alışverişlerinizde yaşadığınız durumları değerlendiriniz; [İnternet\n",
        "mağazalarına güveniyorum.]\n",
        "\n",
        "**satin_alma-ord**: Lütfen internet alışverişlerinizde yaşadığınız durumları değerlendiriniz; [Pandemi\n",
        "döneminde satın alma sıklığım arttı.]\n",
        "\n",
        "**memnuniyet**: Lütfen internet alışverişlerinizde yaşadığınız durumları değerlendiriniz; [İnternetten\n",
        "yaptığım alışverişlerimden memnun kaldım.]\n",
        "\n",
        "**sure**: Lütfen internet alışverişlerinizde yaşadığınız durumları değerlendiriniz; [Siparişlerim elime\n",
        "kısa sürede ulaştı.]\n",
        "\n",
        "**yorum_inceleme**: Lütfen internet alışverişlerinizde yaşadığınız durumları değerlendiriniz; [Satın\n",
        "alacağım ürünün yorumlarını incelerim.]\n",
        "\n",
        "**fiyat_arastirma**: Lütfen internet alışverişlerinizde yaşadığınız durumları değerlendiriniz; [Satın\n",
        "alacağım ürünün fiyatını başka sitelerden araştırırım.]\n",
        "\n",
        "**his**: Lütfen internet alışverişlerinizde yaşadığınız durumları değerlendiriniz; [İnternetten alışveriş\n",
        "yaparken kendimi iyi hissediyorum.]\n",
        "\n",
        "**fark**: Lütfen internet alışverişlerinizde yaşadığınız durumları değerlendiriniz; [Satın aldığım ürün ile\n",
        "elime ulaşan ürün arasında farklar olabiliyor.]\n",
        "\n",
        "**urun_aciklamasi**: Lütfen internet alışverişlerinizde yaşadığınız durumları değerlendiriniz; [Satın\n",
        "aldığım ürün ile elime ulaşan ürün arasında farklar olabiliyor.]\n",
        "\n",
        "**satici_puan**: Lütfen internet alışverişlerinizde yaşadığınız durumları değerlendiriniz; [Satın alacağım\n",
        "ürünün satıcı puanına dikkat ediyorum.]\n",
        "\n",
        "**urun_puan**: Lütfen internet alışverişlerinizde yaşadığınız durumları değerlendiriniz; [Satın alacağım\n",
        "ürünün ürün puanına dikkat ediyorum.]\n",
        "\n",
        "**guvenli_site**: Lütfen internet alışverişlerinizde yaşadığınız durumları değerlendiriniz; [Başka bir\n",
        "sitede daha ucuz olmasına rağmen güvendiğim siteden almayı tercih ediyorum.]\n",
        "\n",
        "**yaniltici_yorum**: Lütfen internet alışverişlerinizde yaşadığınız durumları değerlendiriniz; [Satın\n",
        "aldığım ürünün yorumları yanıltıcı oluyor.]\n",
        "\n",
        "**hasar**: Lütfen internet alışverişlerinizde yaşadığınız durumları değerlendiriniz; [Satın aldığım\n",
        "ürünlerin çoğu hasarlı elime ulaştı.]\n",
        "\n",
        "**genel_memnuniyet**: Lütfen internet alışverişlerinize göre aşağıdaki durumları memnuniyetinize\n",
        "göre puanlayınız; [Genel memnuniyet]\n",
        "\n",
        "**kargo_hizmet**: Lütfen internet alışverişlerinize göre aşağıdaki durumları memnuniyetinize göre\n",
        "puanlayınız; [Kargo firmalarının hizmet kalitesi]\n",
        "\n",
        "**odeme**: Lütfen internet alışverişlerinize göre aşağıdaki durumları memnuniyetinize göre\n",
        "puanlayınız; [Alışveriş platformlarının ödeme yöntemi güvenilirliği]\n",
        "\n",
        "**zamaninda_teslim**: Lütfen internet alışverişlerinize göre aşağıdaki durumları memnuniyetinize göre\n",
        "puanlayınız; [Satın alınan ürünün zamanında teslim edilmesi]\n",
        "\n",
        "**kalite**: Lütfen internet alışverişlerinize göre aşağıdaki durumları memnuniyetinize göre puanlayınız;\n",
        "[Satın alınan ürünün belirtildiği kalitede olması]\n",
        "\n",
        "**degisim**: Lütfen internet alışverişlerinize göre aşağıdaki durumları memnuniyetinize göre\n",
        "puanlayınız; [Değişim ve iade şartları]\n",
        "\n",
        "**satici_ilgisi**: Lütfen internet alışverişlerinize göre aşağıdaki durumları memnuniyetinize göre\n",
        "puanlayınız; [Herhangi bir sorun olduğunda satıcının ilgisi]\n",
        "\n",
        "**hijyen**: Lütfen internet alışverişlerinize göre aşağıdaki durumları memnuniyetinize göre\n",
        "puanlayınız; [Satın alınan ürünlerin hijyenik koşullarda ulaştırılması]\n",
        "\n",
        "**bulunabilirlik**: Lütfen internet alışverişlerinize göre aşağıdaki durumları memnuniyetinize göre\n",
        "puanlayınız; [Aranılan ürünün kolay bulunması]\n",
        "\n",
        "**fiyat_fark**: Lütfen internet alışverişlerinize göre aşağıdaki durumları memnuniyetinize göre\n",
        "puanlayınız; [Fiziksel mağaza ile internet mağazaları arasındaki fiyat farkı]\n",
        "\n",
        "**indirim**: Lütfen internet alışverişlerinize göre aşağıdaki durumları memnuniyetinize göre\n",
        "puanlayınız; [İndirimlerin gerçekçiliği]\n",
        "\n",
        "**beden**: Lütfen internet alışverişlerinize göre aşağıdaki durumları memnuniyetinize göre\n",
        "puanlayınız; [Giyim ürünlerinde beden tariflerinin doğruluğu]\n",
        "\n",
        "**kisisel_veri**: Lütfen internet alışverişlerinize göre aşağıdaki durumları memnuniyetinize göre\n",
        "puanlayınız; [Kişisel bilgilerin korunması konusundaki güven]\n",
        "\n",
        "**kalite_benz**: Lütfen internet alışverişlerinize göre aşağıdaki durumları memnuniyetinize göre\n",
        "puanlayınız; [Mağazadaki ürün ile internetten alınan ürün arasındaki kalite benzerliği]\n",
        "\n",
        "**ambalaj**: Lütfen internet alışverişlerinize göre aşağıdaki durumları memnuniyetinize göre\n",
        "puanlayınız;\" [Satın alınan ürünün ambalaj kalitesi]"
      ]
    },
    {
      "cell_type": "markdown",
      "metadata": {
        "id": "C3Lw5-GNhWYX"
      },
      "source": [
        "---"
      ]
    },
    {
      "cell_type": "code",
      "metadata": {
        "id": "emqoJaNpttY6"
      },
      "source": [
        "import numpy as np\n",
        "import pandas as pd\n",
        "from pandas_profiling import ProfileReport\n",
        "from pandas.api.types import CategoricalDtype\n",
        "import seaborn as sns\n",
        "import matplotlib.pyplot as plt\n",
        "import scipy.stats as stats\n",
        "from statsmodels.stats.proportion import proportions_ztest\n",
        "from scipy.stats import shapiro\n",
        "from scipy.stats import pearsonr\n",
        "from scipy.stats import spearmanr\n",
        "import os"
      ],
      "execution_count": null,
      "outputs": []
    },
    {
      "cell_type": "markdown",
      "metadata": {
        "id": "Lei4GSLTPUtB"
      },
      "source": [
        "Verisetimizi df değişkenine çekelim;"
      ]
    },
    {
      "cell_type": "code",
      "metadata": {
        "id": "6X-ImhSCCVVs"
      },
      "source": [
        "os.chdir(\"/content/drive/MyDrive/Works/Pazarlama\")"
      ],
      "execution_count": null,
      "outputs": []
    },
    {
      "cell_type": "code",
      "metadata": {
        "id": "03or-eV6ttY7"
      },
      "source": [
        "df = pd.read_csv(\"anket.csv\")"
      ],
      "execution_count": null,
      "outputs": []
    },
    {
      "cell_type": "markdown",
      "metadata": {
        "id": "X9vAbfOkOMA7"
      },
      "source": [
        "Veri analizi yaparken kullanmayacağımız sütunları düşürelim;"
      ]
    },
    {
      "cell_type": "code",
      "metadata": {
        "id": "coiolng5ttY7"
      },
      "source": [
        "df.drop([\"Zaman damgasi\", \"acik1\", \"acik2\"], axis=1, inplace=True)"
      ],
      "execution_count": null,
      "outputs": []
    },
    {
      "cell_type": "markdown",
      "metadata": {
        "id": "LjhHCCjJORJT"
      },
      "source": [
        "Veri setimizin son haline göz atalım;"
      ]
    },
    {
      "cell_type": "code",
      "metadata": {
        "id": "7I32YoRYttY7",
        "colab": {
          "base_uri": "https://localhost:8080/",
          "height": 360
        },
        "outputId": "7823476d-43ac-4e8d-c97f-c76bee35e7d1"
      },
      "source": [
        "df.head()"
      ],
      "execution_count": null,
      "outputs": [
        {
          "output_type": "execute_result",
          "data": {
            "text/html": [
              "<div>\n",
              "<style scoped>\n",
              "    .dataframe tbody tr th:only-of-type {\n",
              "        vertical-align: middle;\n",
              "    }\n",
              "\n",
              "    .dataframe tbody tr th {\n",
              "        vertical-align: top;\n",
              "    }\n",
              "\n",
              "    .dataframe thead th {\n",
              "        text-align: right;\n",
              "    }\n",
              "</style>\n",
              "<table border=\"1\" class=\"dataframe\">\n",
              "  <thead>\n",
              "    <tr style=\"text-align: right;\">\n",
              "      <th></th>\n",
              "      <th>cinsiyet</th>\n",
              "      <th>yas</th>\n",
              "      <th>gelir</th>\n",
              "      <th>meslek</th>\n",
              "      <th>egitim</th>\n",
              "      <th>alisveris_tercih</th>\n",
              "      <th>alisveris_alan</th>\n",
              "      <th>market_gida</th>\n",
              "      <th>elektronik</th>\n",
              "      <th>giyim</th>\n",
              "      <th>satin_alma</th>\n",
              "      <th>aliskanlik</th>\n",
              "      <th>guven</th>\n",
              "      <th>satin_alma-ord</th>\n",
              "      <th>memnuniyet</th>\n",
              "      <th>sure</th>\n",
              "      <th>yorum_inceleme</th>\n",
              "      <th>fiyat_arastirma</th>\n",
              "      <th>his</th>\n",
              "      <th>fark</th>\n",
              "      <th>urun_aciklamasi</th>\n",
              "      <th>satici_puan</th>\n",
              "      <th>urun_puan</th>\n",
              "      <th>guvenli_site</th>\n",
              "      <th>yaniltici_yorum</th>\n",
              "      <th>hasar</th>\n",
              "      <th>genel_memnuniyet</th>\n",
              "      <th>kargo_hizmet</th>\n",
              "      <th>odeme</th>\n",
              "      <th>zamaninda_teslim</th>\n",
              "      <th>kalite</th>\n",
              "      <th>degisim</th>\n",
              "      <th>satici_ilgisi</th>\n",
              "      <th>hijyen</th>\n",
              "      <th>bulunabilirlik</th>\n",
              "      <th>fiyat_fark</th>\n",
              "      <th>indirim</th>\n",
              "      <th>beden</th>\n",
              "      <th>kisisel_veri</th>\n",
              "      <th>kalite_benz</th>\n",
              "      <th>ambalaj</th>\n",
              "    </tr>\n",
              "  </thead>\n",
              "  <tbody>\n",
              "    <tr>\n",
              "      <th>0</th>\n",
              "      <td>Erkek</td>\n",
              "      <td>19-29</td>\n",
              "      <td>0-2.500</td>\n",
              "      <td>Ogrenci</td>\n",
              "      <td>Lisans</td>\n",
              "      <td>Internet magazasi</td>\n",
              "      <td>Elektronik urunler</td>\n",
              "      <td>Yemek Sepeti</td>\n",
              "      <td>Hepsiburada</td>\n",
              "      <td>Trendyol</td>\n",
              "      <td>Evet</td>\n",
              "      <td>Kesinlikle Katiliyorum</td>\n",
              "      <td>Katiliyorum</td>\n",
              "      <td>Kesinlikle Katiliyorum</td>\n",
              "      <td>Katiliyorum</td>\n",
              "      <td>Kararsizim</td>\n",
              "      <td>Kesinlikle Katiliyorum</td>\n",
              "      <td>Kesinlikle Katiliyorum</td>\n",
              "      <td>Kesinlikle Katiliyorum</td>\n",
              "      <td>Kararsizim</td>\n",
              "      <td>Kesinlikle Katiliyorum</td>\n",
              "      <td>Kesinlikle Katiliyorum</td>\n",
              "      <td>Kesinlikle Katiliyorum</td>\n",
              "      <td>Kesinlikle Katiliyorum</td>\n",
              "      <td>Katiliyorum</td>\n",
              "      <td>Katilmiyorum</td>\n",
              "      <td>4</td>\n",
              "      <td>4</td>\n",
              "      <td>4</td>\n",
              "      <td>5</td>\n",
              "      <td>5</td>\n",
              "      <td>5</td>\n",
              "      <td>5</td>\n",
              "      <td>4</td>\n",
              "      <td>5</td>\n",
              "      <td>5</td>\n",
              "      <td>3</td>\n",
              "      <td>4</td>\n",
              "      <td>4</td>\n",
              "      <td>5</td>\n",
              "      <td>4</td>\n",
              "    </tr>\n",
              "    <tr>\n",
              "      <th>1</th>\n",
              "      <td>Kadin</td>\n",
              "      <td>19-29</td>\n",
              "      <td>0-2.500</td>\n",
              "      <td>Ogrenci</td>\n",
              "      <td>Lisans</td>\n",
              "      <td>Internet magazasi</td>\n",
              "      <td>Giyim</td>\n",
              "      <td>Yemek Sepeti</td>\n",
              "      <td>Hepsiburada</td>\n",
              "      <td>Trendyol</td>\n",
              "      <td>Evet</td>\n",
              "      <td>Katiliyorum</td>\n",
              "      <td>Katiliyorum</td>\n",
              "      <td>Katiliyorum</td>\n",
              "      <td>Kararsizim</td>\n",
              "      <td>Kararsizim</td>\n",
              "      <td>Kesinlikle Katiliyorum</td>\n",
              "      <td>Kesinlikle Katiliyorum</td>\n",
              "      <td>Kararsizim</td>\n",
              "      <td>Katiliyorum</td>\n",
              "      <td>Katiliyorum</td>\n",
              "      <td>Kesinlikle Katiliyorum</td>\n",
              "      <td>Kesinlikle Katiliyorum</td>\n",
              "      <td>Katiliyorum</td>\n",
              "      <td>Kararsizim</td>\n",
              "      <td>Katilmiyorum</td>\n",
              "      <td>3</td>\n",
              "      <td>2</td>\n",
              "      <td>4</td>\n",
              "      <td>2</td>\n",
              "      <td>4</td>\n",
              "      <td>3</td>\n",
              "      <td>3</td>\n",
              "      <td>3</td>\n",
              "      <td>3</td>\n",
              "      <td>4</td>\n",
              "      <td>2</td>\n",
              "      <td>2</td>\n",
              "      <td>4</td>\n",
              "      <td>2</td>\n",
              "      <td>4</td>\n",
              "    </tr>\n",
              "    <tr>\n",
              "      <th>2</th>\n",
              "      <td>Kadin</td>\n",
              "      <td>19-29</td>\n",
              "      <td>0-2.500</td>\n",
              "      <td>Ogrenci</td>\n",
              "      <td>Lisans</td>\n",
              "      <td>Internet magazasi</td>\n",
              "      <td>Giyim</td>\n",
              "      <td>Getir</td>\n",
              "      <td>Trendyol</td>\n",
              "      <td>Trendyol</td>\n",
              "      <td>Evet</td>\n",
              "      <td>Katiliyorum</td>\n",
              "      <td>Katiliyorum</td>\n",
              "      <td>Katiliyorum</td>\n",
              "      <td>Katiliyorum</td>\n",
              "      <td>Katiliyorum</td>\n",
              "      <td>Katiliyorum</td>\n",
              "      <td>Katiliyorum</td>\n",
              "      <td>Katiliyorum</td>\n",
              "      <td>Katiliyorum</td>\n",
              "      <td>Katiliyorum</td>\n",
              "      <td>Katiliyorum</td>\n",
              "      <td>Katiliyorum</td>\n",
              "      <td>Katiliyorum</td>\n",
              "      <td>Katiliyorum</td>\n",
              "      <td>Katiliyorum</td>\n",
              "      <td>3</td>\n",
              "      <td>3</td>\n",
              "      <td>3</td>\n",
              "      <td>3</td>\n",
              "      <td>3</td>\n",
              "      <td>4</td>\n",
              "      <td>3</td>\n",
              "      <td>3</td>\n",
              "      <td>3</td>\n",
              "      <td>2</td>\n",
              "      <td>3</td>\n",
              "      <td>3</td>\n",
              "      <td>3</td>\n",
              "      <td>2</td>\n",
              "      <td>2</td>\n",
              "    </tr>\n",
              "    <tr>\n",
              "      <th>3</th>\n",
              "      <td>Kadin</td>\n",
              "      <td>19-29</td>\n",
              "      <td>0-2.500</td>\n",
              "      <td>Ogrenci</td>\n",
              "      <td>Lisans</td>\n",
              "      <td>Internet magazasi</td>\n",
              "      <td>Giyim</td>\n",
              "      <td>Internetten market ve gida alisverisi yapmiyorum.</td>\n",
              "      <td>Teknosa</td>\n",
              "      <td>Trendyol</td>\n",
              "      <td>Hayir</td>\n",
              "      <td>Kararsizim</td>\n",
              "      <td>Kararsizim</td>\n",
              "      <td>Kararsizim</td>\n",
              "      <td>Kararsizim</td>\n",
              "      <td>Kararsizim</td>\n",
              "      <td>Kararsizim</td>\n",
              "      <td>Kararsizim</td>\n",
              "      <td>Kararsizim</td>\n",
              "      <td>Kararsizim</td>\n",
              "      <td>Kararsizim</td>\n",
              "      <td>Kararsizim</td>\n",
              "      <td>Kararsizim</td>\n",
              "      <td>Kararsizim</td>\n",
              "      <td>Kararsizim</td>\n",
              "      <td>Kararsizim</td>\n",
              "      <td>3</td>\n",
              "      <td>2</td>\n",
              "      <td>3</td>\n",
              "      <td>3</td>\n",
              "      <td>3</td>\n",
              "      <td>4</td>\n",
              "      <td>3</td>\n",
              "      <td>3</td>\n",
              "      <td>4</td>\n",
              "      <td>3</td>\n",
              "      <td>1</td>\n",
              "      <td>3</td>\n",
              "      <td>3</td>\n",
              "      <td>3</td>\n",
              "      <td>3</td>\n",
              "    </tr>\n",
              "    <tr>\n",
              "      <th>4</th>\n",
              "      <td>Erkek</td>\n",
              "      <td>19-29</td>\n",
              "      <td>0-2.500</td>\n",
              "      <td>Ogrenci</td>\n",
              "      <td>Lisans</td>\n",
              "      <td>Internet magazasi</td>\n",
              "      <td>Gida</td>\n",
              "      <td>Getir</td>\n",
              "      <td>Hepsiburada</td>\n",
              "      <td>Trendyol</td>\n",
              "      <td>Evet</td>\n",
              "      <td>Katilmiyorum</td>\n",
              "      <td>Katilmiyorum</td>\n",
              "      <td>Kesinlikle Katilmiyorum</td>\n",
              "      <td>Katiliyorum</td>\n",
              "      <td>Kararsizim</td>\n",
              "      <td>Kesinlikle Katiliyorum</td>\n",
              "      <td>Kesinlikle Katiliyorum</td>\n",
              "      <td>Katilmiyorum</td>\n",
              "      <td>Katilmiyorum</td>\n",
              "      <td>Kesinlikle Katiliyorum</td>\n",
              "      <td>Kesinlikle Katiliyorum</td>\n",
              "      <td>Kesinlikle Katiliyorum</td>\n",
              "      <td>Kesinlikle Katiliyorum</td>\n",
              "      <td>Kesinlikle Katilmiyorum</td>\n",
              "      <td>Kesinlikle Katilmiyorum</td>\n",
              "      <td>4</td>\n",
              "      <td>3</td>\n",
              "      <td>5</td>\n",
              "      <td>4</td>\n",
              "      <td>3</td>\n",
              "      <td>3</td>\n",
              "      <td>3</td>\n",
              "      <td>3</td>\n",
              "      <td>3</td>\n",
              "      <td>1</td>\n",
              "      <td>1</td>\n",
              "      <td>3</td>\n",
              "      <td>3</td>\n",
              "      <td>3</td>\n",
              "      <td>3</td>\n",
              "    </tr>\n",
              "  </tbody>\n",
              "</table>\n",
              "</div>"
            ],
            "text/plain": [
              "  cinsiyet    yas    gelir   meslek  ... beden kisisel_veri kalite_benz ambalaj\n",
              "0    Erkek  19-29  0-2.500  Ogrenci  ...     4            4           5       4\n",
              "1    Kadin  19-29  0-2.500  Ogrenci  ...     2            4           2       4\n",
              "2    Kadin  19-29  0-2.500  Ogrenci  ...     3            3           2       2\n",
              "3    Kadin  19-29  0-2.500  Ogrenci  ...     3            3           3       3\n",
              "4    Erkek  19-29  0-2.500  Ogrenci  ...     3            3           3       3\n",
              "\n",
              "[5 rows x 41 columns]"
            ]
          },
          "metadata": {
            "tags": []
          },
          "execution_count": 8
        }
      ]
    },
    {
      "cell_type": "markdown",
      "metadata": {
        "id": "nWstG5PtttY-"
      },
      "source": [
        "### **Ordinal verileri düzenleme**"
      ]
    },
    {
      "cell_type": "markdown",
      "metadata": {
        "id": "UyLzM0uSU11N"
      },
      "source": [
        "Nominal verilerimiz var fakat bunlar kendi içinde sıralamaya sahipler, bunları ordinal hale getirmeliyiz."
      ]
    },
    {
      "cell_type": "code",
      "metadata": {
        "id": "6hOEiwvRttY-",
        "colab": {
          "base_uri": "https://localhost:8080/"
        },
        "outputId": "d9109e18-185d-48bb-a463-62775daaaca2"
      },
      "source": [
        "df.yas.unique()"
      ],
      "execution_count": null,
      "outputs": [
        {
          "output_type": "execute_result",
          "data": {
            "text/plain": [
              "array(['19-29', '40-49', '0-18', '50+', '30-39'], dtype=object)"
            ]
          },
          "metadata": {
            "tags": []
          },
          "execution_count": 9
        }
      ]
    },
    {
      "cell_type": "code",
      "metadata": {
        "id": "gDCbtLhQttY-"
      },
      "source": [
        "yas_kategoriler = [\"0-18\", '19-29', '30-39', '40-49', '50+']\n",
        "\n",
        "df.yas = df.yas.astype(CategoricalDtype(categories = yas_kategoriler,\n",
        "                                       ordered=True))\n",
        "#yas degiskeninin tipini kategorik degiskene donustur.\n",
        "#Ve bunu sirali (ordinal) sekilde yap."
      ],
      "execution_count": null,
      "outputs": []
    },
    {
      "cell_type": "code",
      "metadata": {
        "id": "IbxNugLrttY-",
        "colab": {
          "base_uri": "https://localhost:8080/"
        },
        "outputId": "e2199747-f172-43b0-8166-3dd7f084d2fc"
      },
      "source": [
        "df.yas.head(1)"
      ],
      "execution_count": null,
      "outputs": [
        {
          "output_type": "execute_result",
          "data": {
            "text/plain": [
              "0    19-29\n",
              "Name: yas, dtype: category\n",
              "Categories (5, object): ['0-18' < '19-29' < '30-39' < '40-49' < '50+']"
            ]
          },
          "metadata": {
            "tags": []
          },
          "execution_count": 11
        }
      ]
    },
    {
      "cell_type": "markdown",
      "metadata": {
        "id": "NYVang7pVXsG"
      },
      "source": [
        "**yas** değişkenimizin değerleri `'0-18' < '19-29' < '30-39' < '40-49' < '50+'` olarak sıralandı."
      ]
    },
    {
      "cell_type": "code",
      "metadata": {
        "id": "A2-bhs-GttY_",
        "colab": {
          "base_uri": "https://localhost:8080/"
        },
        "outputId": "716f5e7a-8616-45ca-f9ca-e3d6646401de"
      },
      "source": [
        "df.egitim.unique()"
      ],
      "execution_count": null,
      "outputs": [
        {
          "output_type": "execute_result",
          "data": {
            "text/plain": [
              "array(['Lisans', 'Lise', 'Ilkokul', 'Diger', 'Ortaokul', 'Yuksek Lisans',\n",
              "       'Doktora'], dtype=object)"
            ]
          },
          "metadata": {
            "tags": []
          },
          "execution_count": 12
        }
      ]
    },
    {
      "cell_type": "code",
      "metadata": {
        "id": "ZLWSYBuXttY_"
      },
      "source": [
        "egitim_kategoriler = [\"Diger\", \"Ilkokul\", \"Ortaokul\", \"Lise\", \"Lisans\", \n",
        "                      \"Yuksek Lisans\",\"Doktora\"]"
      ],
      "execution_count": null,
      "outputs": []
    },
    {
      "cell_type": "code",
      "metadata": {
        "id": "tS6a8Y22ttY_"
      },
      "source": [
        "df.egitim = df.egitim.astype(CategoricalDtype(categories = egitim_kategoriler, \n",
        "                                              ordered = True))\n",
        "#egitim degiskeninin tipini kategorik degiskene donustur.\n",
        "#Ve bunu sirali (ordinal) sekilde yap."
      ],
      "execution_count": null,
      "outputs": []
    },
    {
      "cell_type": "code",
      "metadata": {
        "id": "W_mXnrNCttY_",
        "colab": {
          "base_uri": "https://localhost:8080/"
        },
        "outputId": "26d8b2ca-fbd2-4a5a-e885-e32427aaed8c"
      },
      "source": [
        "df.egitim.head(1)"
      ],
      "execution_count": null,
      "outputs": [
        {
          "output_type": "execute_result",
          "data": {
            "text/plain": [
              "0    Lisans\n",
              "Name: egitim, dtype: category\n",
              "Categories (7, object): ['Diger' < 'Ilkokul' < 'Ortaokul' < 'Lise' < 'Lisans' < 'Yuksek Lisans' <\n",
              "                         'Doktora']"
            ]
          },
          "metadata": {
            "tags": []
          },
          "execution_count": 15
        }
      ]
    },
    {
      "cell_type": "markdown",
      "metadata": {
        "id": "dPD9ZdHeVkW8"
      },
      "source": [
        "**egitim** değişkenimizin değerleri `['Diger' < 'Ilkokul' < 'Ortaokul' < 'Lise' < 'Lisans' < 'Yuksek Lisans' < 'Doktora']` olarak sıralandı."
      ]
    },
    {
      "cell_type": "code",
      "metadata": {
        "id": "RHXZJsIWttZA"
      },
      "source": [
        "gelir_kategoriler = ['0-2.500','2.500-4.000', '4.000-6.000', '6.000-8.000',\n",
        "                     '8000-10.000','10.000+']\n",
        "\n",
        "df.gelir = df.gelir.astype(CategoricalDtype(categories = gelir_kategoriler, \n",
        "                                              ordered = True))\n",
        "#gelir degiskeninin tipini kategorik degiskene donustur.\n",
        "#Ve bunu sirali (ordinal) sekilde yap."
      ],
      "execution_count": null,
      "outputs": []
    },
    {
      "cell_type": "code",
      "metadata": {
        "id": "VEcmiKM6ttZA",
        "colab": {
          "base_uri": "https://localhost:8080/"
        },
        "outputId": "c704000c-aa5b-428f-8486-f4cccbf1a4c3"
      },
      "source": [
        "df.gelir.head(1)"
      ],
      "execution_count": null,
      "outputs": [
        {
          "output_type": "execute_result",
          "data": {
            "text/plain": [
              "0    0-2.500\n",
              "Name: gelir, dtype: category\n",
              "Categories (6, object): ['0-2.500' < '2.500-4.000' < '4.000-6.000' < '6.000-8.000' < '8000-10.000' <\n",
              "                         '10.000+']"
            ]
          },
          "metadata": {
            "tags": []
          },
          "execution_count": 17
        }
      ]
    },
    {
      "cell_type": "markdown",
      "metadata": {
        "id": "rbOE8Zx1VyLT"
      },
      "source": [
        "**gelir** değişkenimizin değerleri `['0-2.500' < '2.500-4.000' < '4.000-6.000' < '6.000-8.000' < '8000-10.000' <\n",
        "                         '10.000+']` olarak sıralandı."
      ]
    },
    {
      "cell_type": "code",
      "metadata": {
        "id": "Ajba9kjhttZA"
      },
      "source": [
        "kategoriler = ['Kesinlikle Katilmiyorum','Katilmiyorum', 'Kararsizim', 'Katiliyorum',\n",
        "                     'Kesinlikle Katiliyorum']\n",
        "\n",
        "variables = [\"aliskanlik\" ,\"guven\", \"satin_alma-ord\", \"memnuniyet\", \"sure\",\n",
        "            \"yorum_inceleme\", \"fiyat_arastirma\", \"his\", \"fark\", \"urun_aciklamasi\",\n",
        "            \"satici_puan\", \"urun_puan\", \"guvenli_site\", \"yaniltici_yorum\", \"hasar\"]\n",
        "\n",
        "for i in variables:\n",
        "    df[i] = df[i].astype(CategoricalDtype(categories = kategoriler, \n",
        "                                              ordered = True))\n",
        "\n",
        "#variables icindeki her bir degiskeninin tipini kategorik degiskene donustur.\n",
        "#Ve bunu sirali (ordinal) sekilde yap."
      ],
      "execution_count": null,
      "outputs": []
    },
    {
      "cell_type": "code",
      "metadata": {
        "id": "nXoY1d1kttZA",
        "colab": {
          "base_uri": "https://localhost:8080/"
        },
        "outputId": "ace4425b-bd49-4403-a3ff-5a55e41169a9"
      },
      "source": [
        "#kontrol\n",
        "df.hasar.head(1)\n",
        "#['Kesinlikle Katilmiyorum' < 'Katilmiyorum' < 'Kararsizim'\n",
        "# < 'Katiliyorum' < 'Kesinlikle Katiliyorum']"
      ],
      "execution_count": null,
      "outputs": [
        {
          "output_type": "execute_result",
          "data": {
            "text/plain": [
              "0    Katilmiyorum\n",
              "Name: hasar, dtype: category\n",
              "Categories (5, object): ['Kesinlikle Katilmiyorum' < 'Katilmiyorum' < 'Kararsizim' < 'Katiliyorum' <\n",
              "                         'Kesinlikle Katiliyorum']"
            ]
          },
          "metadata": {
            "tags": []
          },
          "execution_count": 19
        }
      ]
    },
    {
      "cell_type": "markdown",
      "metadata": {
        "id": "M5TYTRBoV792"
      },
      "source": [
        "Tutum ölçeğine sahip değişkenlerimizin değerleri `['Kesinlikle Katilmiyorum' < 'Katilmiyorum' < 'Kararsizim' < 'Katiliyorum' <\n",
        "                         'Kesinlikle Katiliyorum']` olarak sıralandı."
      ]
    },
    {
      "cell_type": "markdown",
      "metadata": {
        "id": "Sxoz-XRTWhRr"
      },
      "source": [
        "Verisetimize tekrar göz atalım;"
      ]
    },
    {
      "cell_type": "code",
      "metadata": {
        "id": "b-eR4KR-ttZA",
        "colab": {
          "base_uri": "https://localhost:8080/"
        },
        "outputId": "c53a0b6c-cfaf-4667-f8b6-2b42fe19c791"
      },
      "source": [
        "df.info()"
      ],
      "execution_count": null,
      "outputs": [
        {
          "output_type": "stream",
          "text": [
            "<class 'pandas.core.frame.DataFrame'>\n",
            "RangeIndex: 183 entries, 0 to 182\n",
            "Data columns (total 44 columns):\n",
            " #   Column            Non-Null Count  Dtype \n",
            "---  ------            --------------  ----- \n",
            " 0   Zaman damgasi     183 non-null    object\n",
            " 1   cinsiyet          183 non-null    object\n",
            " 2   yas               183 non-null    object\n",
            " 3   gelir             183 non-null    object\n",
            " 4   meslek            183 non-null    object\n",
            " 5   egitim            183 non-null    object\n",
            " 6   alisveris_tercih  183 non-null    object\n",
            " 7   alisveris_alan    183 non-null    object\n",
            " 8   market_gida       183 non-null    object\n",
            " 9   elektronik        183 non-null    object\n",
            " 10  giyim             183 non-null    object\n",
            " 11  satin_alma        183 non-null    object\n",
            " 12  aliskanlik        183 non-null    object\n",
            " 13  guven             183 non-null    object\n",
            " 14  satin_alma-ord    183 non-null    object\n",
            " 15  memnuniyet        183 non-null    object\n",
            " 16  sure              183 non-null    object\n",
            " 17  yorum_inceleme    183 non-null    object\n",
            " 18  fiyat_arastirma   183 non-null    object\n",
            " 19  his               183 non-null    object\n",
            " 20  fark              183 non-null    object\n",
            " 21  urun_aciklamasi   183 non-null    object\n",
            " 22  satici_puan       183 non-null    object\n",
            " 23  urun_puan         183 non-null    object\n",
            " 24  guvenli_site      183 non-null    object\n",
            " 25  yaniltici_yorum   183 non-null    object\n",
            " 26  hasar             183 non-null    object\n",
            " 27  genel_memnuniyet  183 non-null    int64 \n",
            " 28  kargo_hizmet      183 non-null    int64 \n",
            " 29  odeme             183 non-null    int64 \n",
            " 30  zamaninda_teslim  183 non-null    int64 \n",
            " 31  kalite            183 non-null    int64 \n",
            " 32  degisim           183 non-null    int64 \n",
            " 33  satici_ilgisi     183 non-null    int64 \n",
            " 34  hijyen            183 non-null    int64 \n",
            " 35  bulunabilirlik    183 non-null    int64 \n",
            " 36  fiyat_fark        183 non-null    int64 \n",
            " 37  indirim           183 non-null    int64 \n",
            " 38  beden             183 non-null    int64 \n",
            " 39  kisisel_veri      183 non-null    int64 \n",
            " 40  kalite_benz       183 non-null    int64 \n",
            " 41  ambalaj           183 non-null    int64 \n",
            " 42  acik1             118 non-null    object\n",
            " 43  acik2             107 non-null    object\n",
            "dtypes: int64(15), object(29)\n",
            "memory usage: 63.0+ KB\n"
          ],
          "name": "stdout"
        }
      ]
    },
    {
      "cell_type": "markdown",
      "metadata": {
        "id": "YshDh8Y0ttZD"
      },
      "source": [
        "---"
      ]
    },
    {
      "cell_type": "markdown",
      "metadata": {
        "id": "_U7S12YIWmis"
      },
      "source": [
        "Sadece demografik soruları içeren **df2** isminde bir DataFrame oluşturalım;"
      ]
    },
    {
      "cell_type": "code",
      "metadata": {
        "id": "xvz92ZKTttZD"
      },
      "source": [
        "df2 = df.iloc[:, 0:11]"
      ],
      "execution_count": null,
      "outputs": []
    },
    {
      "cell_type": "code",
      "metadata": {
        "id": "Va2IADwBttZD",
        "colab": {
          "base_uri": "https://localhost:8080/",
          "height": 343
        },
        "outputId": "664d9bbf-c94b-46ea-c605-917a7c628ece"
      },
      "source": [
        "df2.head()"
      ],
      "execution_count": null,
      "outputs": [
        {
          "output_type": "execute_result",
          "data": {
            "text/html": [
              "<div>\n",
              "<style scoped>\n",
              "    .dataframe tbody tr th:only-of-type {\n",
              "        vertical-align: middle;\n",
              "    }\n",
              "\n",
              "    .dataframe tbody tr th {\n",
              "        vertical-align: top;\n",
              "    }\n",
              "\n",
              "    .dataframe thead th {\n",
              "        text-align: right;\n",
              "    }\n",
              "</style>\n",
              "<table border=\"1\" class=\"dataframe\">\n",
              "  <thead>\n",
              "    <tr style=\"text-align: right;\">\n",
              "      <th></th>\n",
              "      <th>cinsiyet</th>\n",
              "      <th>yas</th>\n",
              "      <th>gelir</th>\n",
              "      <th>meslek</th>\n",
              "      <th>egitim</th>\n",
              "      <th>alisveris_tercih</th>\n",
              "      <th>alisveris_alan</th>\n",
              "      <th>market_gida</th>\n",
              "      <th>elektronik</th>\n",
              "      <th>giyim</th>\n",
              "      <th>satin_alma</th>\n",
              "    </tr>\n",
              "  </thead>\n",
              "  <tbody>\n",
              "    <tr>\n",
              "      <th>0</th>\n",
              "      <td>Erkek</td>\n",
              "      <td>19-29</td>\n",
              "      <td>0-2.500</td>\n",
              "      <td>Ogrenci</td>\n",
              "      <td>Lisans</td>\n",
              "      <td>Internet magazasi</td>\n",
              "      <td>Elektronik urunler</td>\n",
              "      <td>Yemek Sepeti</td>\n",
              "      <td>Hepsiburada</td>\n",
              "      <td>Trendyol</td>\n",
              "      <td>Evet</td>\n",
              "    </tr>\n",
              "    <tr>\n",
              "      <th>1</th>\n",
              "      <td>Kadin</td>\n",
              "      <td>19-29</td>\n",
              "      <td>0-2.500</td>\n",
              "      <td>Ogrenci</td>\n",
              "      <td>Lisans</td>\n",
              "      <td>Internet magazasi</td>\n",
              "      <td>Giyim</td>\n",
              "      <td>Yemek Sepeti</td>\n",
              "      <td>Hepsiburada</td>\n",
              "      <td>Trendyol</td>\n",
              "      <td>Evet</td>\n",
              "    </tr>\n",
              "    <tr>\n",
              "      <th>2</th>\n",
              "      <td>Kadin</td>\n",
              "      <td>19-29</td>\n",
              "      <td>0-2.500</td>\n",
              "      <td>Ogrenci</td>\n",
              "      <td>Lisans</td>\n",
              "      <td>Internet magazasi</td>\n",
              "      <td>Giyim</td>\n",
              "      <td>Getir</td>\n",
              "      <td>Trendyol</td>\n",
              "      <td>Trendyol</td>\n",
              "      <td>Evet</td>\n",
              "    </tr>\n",
              "    <tr>\n",
              "      <th>3</th>\n",
              "      <td>Kadin</td>\n",
              "      <td>19-29</td>\n",
              "      <td>0-2.500</td>\n",
              "      <td>Ogrenci</td>\n",
              "      <td>Lisans</td>\n",
              "      <td>Internet magazasi</td>\n",
              "      <td>Giyim</td>\n",
              "      <td>Internetten market ve gida alisverisi yapmiyorum.</td>\n",
              "      <td>Teknosa</td>\n",
              "      <td>Trendyol</td>\n",
              "      <td>Hayir</td>\n",
              "    </tr>\n",
              "    <tr>\n",
              "      <th>4</th>\n",
              "      <td>Erkek</td>\n",
              "      <td>19-29</td>\n",
              "      <td>0-2.500</td>\n",
              "      <td>Ogrenci</td>\n",
              "      <td>Lisans</td>\n",
              "      <td>Internet magazasi</td>\n",
              "      <td>Gida</td>\n",
              "      <td>Getir</td>\n",
              "      <td>Hepsiburada</td>\n",
              "      <td>Trendyol</td>\n",
              "      <td>Evet</td>\n",
              "    </tr>\n",
              "  </tbody>\n",
              "</table>\n",
              "</div>"
            ],
            "text/plain": [
              "  cinsiyet    yas    gelir  ...   elektronik     giyim satin_alma\n",
              "0    Erkek  19-29  0-2.500  ...  Hepsiburada  Trendyol       Evet\n",
              "1    Kadin  19-29  0-2.500  ...  Hepsiburada  Trendyol       Evet\n",
              "2    Kadin  19-29  0-2.500  ...     Trendyol  Trendyol       Evet\n",
              "3    Kadin  19-29  0-2.500  ...      Teknosa  Trendyol      Hayir\n",
              "4    Erkek  19-29  0-2.500  ...  Hepsiburada  Trendyol       Evet\n",
              "\n",
              "[5 rows x 11 columns]"
            ]
          },
          "metadata": {
            "tags": []
          },
          "execution_count": 22
        }
      ]
    },
    {
      "cell_type": "markdown",
      "metadata": {
        "id": "XO78ZsizttZD"
      },
      "source": [
        "## **Pandas Profiling Report**"
      ]
    },
    {
      "cell_type": "markdown",
      "metadata": {
        "id": "9K4kNzctWvaK"
      },
      "source": [
        "Pandas Profiling, verilerimiz ile hızlıca keşifsel veri analizi yapmamızı sağlar. `report.html` dosyasına analizi kaydedelim."
      ]
    },
    {
      "cell_type": "code",
      "metadata": {
        "id": "jbJFtSepttZD"
      },
      "source": [
        "#profile = ProfileReport(df2, title=\"Pazar Analizi\")\n",
        "#profile.to_file(\"report.html\")"
      ],
      "execution_count": null,
      "outputs": []
    },
    {
      "cell_type": "markdown",
      "metadata": {
        "id": "o8VigKNrttZD"
      },
      "source": [
        "---"
      ]
    },
    {
      "cell_type": "markdown",
      "metadata": {
        "id": "T0jXQyoPttZD"
      },
      "source": [
        "# **Veri Görselleştirme**"
      ]
    },
    {
      "cell_type": "markdown",
      "metadata": {
        "id": "NhE1FOZ_ttZD"
      },
      "source": [
        "### **Tanımlayıcı İstatistik**"
      ]
    },
    {
      "cell_type": "markdown",
      "metadata": {
        "id": "QgfEiW-vaPeg"
      },
      "source": [
        ""
      ]
    },
    {
      "cell_type": "code",
      "metadata": {
        "id": "wnSbfmtBttZD",
        "colab": {
          "base_uri": "https://localhost:8080/",
          "height": 317
        },
        "outputId": "ef933d5e-8d66-46c1-bbbd-24f8f260a911"
      },
      "source": [
        "df.describe()"
      ],
      "execution_count": null,
      "outputs": [
        {
          "output_type": "execute_result",
          "data": {
            "text/html": [
              "<div>\n",
              "<style scoped>\n",
              "    .dataframe tbody tr th:only-of-type {\n",
              "        vertical-align: middle;\n",
              "    }\n",
              "\n",
              "    .dataframe tbody tr th {\n",
              "        vertical-align: top;\n",
              "    }\n",
              "\n",
              "    .dataframe thead th {\n",
              "        text-align: right;\n",
              "    }\n",
              "</style>\n",
              "<table border=\"1\" class=\"dataframe\">\n",
              "  <thead>\n",
              "    <tr style=\"text-align: right;\">\n",
              "      <th></th>\n",
              "      <th>genel_memnuniyet</th>\n",
              "      <th>kargo_hizmet</th>\n",
              "      <th>odeme</th>\n",
              "      <th>zamaninda_teslim</th>\n",
              "      <th>kalite</th>\n",
              "      <th>degisim</th>\n",
              "      <th>satici_ilgisi</th>\n",
              "      <th>hijyen</th>\n",
              "      <th>bulunabilirlik</th>\n",
              "      <th>fiyat_fark</th>\n",
              "      <th>indirim</th>\n",
              "      <th>beden</th>\n",
              "      <th>kisisel_veri</th>\n",
              "      <th>kalite_benz</th>\n",
              "      <th>ambalaj</th>\n",
              "    </tr>\n",
              "  </thead>\n",
              "  <tbody>\n",
              "    <tr>\n",
              "      <th>count</th>\n",
              "      <td>183.000000</td>\n",
              "      <td>183.000000</td>\n",
              "      <td>183.000000</td>\n",
              "      <td>183.000000</td>\n",
              "      <td>183.000000</td>\n",
              "      <td>183.000000</td>\n",
              "      <td>183.000000</td>\n",
              "      <td>183.000000</td>\n",
              "      <td>183.000000</td>\n",
              "      <td>183.000000</td>\n",
              "      <td>183.000000</td>\n",
              "      <td>183.000000</td>\n",
              "      <td>183.000000</td>\n",
              "      <td>183.000000</td>\n",
              "      <td>183.000000</td>\n",
              "    </tr>\n",
              "    <tr>\n",
              "      <th>mean</th>\n",
              "      <td>3.601093</td>\n",
              "      <td>2.950820</td>\n",
              "      <td>3.633880</td>\n",
              "      <td>3.202186</td>\n",
              "      <td>3.377049</td>\n",
              "      <td>3.480874</td>\n",
              "      <td>3.147541</td>\n",
              "      <td>3.109290</td>\n",
              "      <td>3.726776</td>\n",
              "      <td>3.535519</td>\n",
              "      <td>2.196721</td>\n",
              "      <td>3.087432</td>\n",
              "      <td>2.901639</td>\n",
              "      <td>3.437158</td>\n",
              "      <td>3.371585</td>\n",
              "    </tr>\n",
              "    <tr>\n",
              "      <th>std</th>\n",
              "      <td>0.907477</td>\n",
              "      <td>1.075597</td>\n",
              "      <td>1.038992</td>\n",
              "      <td>1.057467</td>\n",
              "      <td>0.904760</td>\n",
              "      <td>1.152358</td>\n",
              "      <td>1.131508</td>\n",
              "      <td>1.073697</td>\n",
              "      <td>1.038646</td>\n",
              "      <td>1.098248</td>\n",
              "      <td>1.106718</td>\n",
              "      <td>1.012561</td>\n",
              "      <td>1.100024</td>\n",
              "      <td>0.986244</td>\n",
              "      <td>1.060614</td>\n",
              "    </tr>\n",
              "    <tr>\n",
              "      <th>min</th>\n",
              "      <td>1.000000</td>\n",
              "      <td>1.000000</td>\n",
              "      <td>1.000000</td>\n",
              "      <td>1.000000</td>\n",
              "      <td>1.000000</td>\n",
              "      <td>1.000000</td>\n",
              "      <td>1.000000</td>\n",
              "      <td>1.000000</td>\n",
              "      <td>1.000000</td>\n",
              "      <td>1.000000</td>\n",
              "      <td>1.000000</td>\n",
              "      <td>1.000000</td>\n",
              "      <td>1.000000</td>\n",
              "      <td>1.000000</td>\n",
              "      <td>1.000000</td>\n",
              "    </tr>\n",
              "    <tr>\n",
              "      <th>25%</th>\n",
              "      <td>3.000000</td>\n",
              "      <td>2.000000</td>\n",
              "      <td>3.000000</td>\n",
              "      <td>3.000000</td>\n",
              "      <td>3.000000</td>\n",
              "      <td>3.000000</td>\n",
              "      <td>2.000000</td>\n",
              "      <td>2.000000</td>\n",
              "      <td>3.000000</td>\n",
              "      <td>3.000000</td>\n",
              "      <td>1.000000</td>\n",
              "      <td>2.000000</td>\n",
              "      <td>2.000000</td>\n",
              "      <td>3.000000</td>\n",
              "      <td>3.000000</td>\n",
              "    </tr>\n",
              "    <tr>\n",
              "      <th>50%</th>\n",
              "      <td>4.000000</td>\n",
              "      <td>3.000000</td>\n",
              "      <td>4.000000</td>\n",
              "      <td>3.000000</td>\n",
              "      <td>3.000000</td>\n",
              "      <td>4.000000</td>\n",
              "      <td>3.000000</td>\n",
              "      <td>3.000000</td>\n",
              "      <td>4.000000</td>\n",
              "      <td>4.000000</td>\n",
              "      <td>2.000000</td>\n",
              "      <td>3.000000</td>\n",
              "      <td>3.000000</td>\n",
              "      <td>4.000000</td>\n",
              "      <td>4.000000</td>\n",
              "    </tr>\n",
              "    <tr>\n",
              "      <th>75%</th>\n",
              "      <td>4.000000</td>\n",
              "      <td>4.000000</td>\n",
              "      <td>4.000000</td>\n",
              "      <td>4.000000</td>\n",
              "      <td>4.000000</td>\n",
              "      <td>4.000000</td>\n",
              "      <td>4.000000</td>\n",
              "      <td>4.000000</td>\n",
              "      <td>5.000000</td>\n",
              "      <td>4.000000</td>\n",
              "      <td>3.000000</td>\n",
              "      <td>4.000000</td>\n",
              "      <td>4.000000</td>\n",
              "      <td>4.000000</td>\n",
              "      <td>4.000000</td>\n",
              "    </tr>\n",
              "    <tr>\n",
              "      <th>max</th>\n",
              "      <td>5.000000</td>\n",
              "      <td>5.000000</td>\n",
              "      <td>5.000000</td>\n",
              "      <td>5.000000</td>\n",
              "      <td>5.000000</td>\n",
              "      <td>5.000000</td>\n",
              "      <td>5.000000</td>\n",
              "      <td>5.000000</td>\n",
              "      <td>5.000000</td>\n",
              "      <td>5.000000</td>\n",
              "      <td>5.000000</td>\n",
              "      <td>5.000000</td>\n",
              "      <td>5.000000</td>\n",
              "      <td>5.000000</td>\n",
              "      <td>5.000000</td>\n",
              "    </tr>\n",
              "  </tbody>\n",
              "</table>\n",
              "</div>"
            ],
            "text/plain": [
              "       genel_memnuniyet  kargo_hizmet  ...  kalite_benz     ambalaj\n",
              "count        183.000000    183.000000  ...   183.000000  183.000000\n",
              "mean           3.601093      2.950820  ...     3.437158    3.371585\n",
              "std            0.907477      1.075597  ...     0.986244    1.060614\n",
              "min            1.000000      1.000000  ...     1.000000    1.000000\n",
              "25%            3.000000      2.000000  ...     3.000000    3.000000\n",
              "50%            4.000000      3.000000  ...     4.000000    4.000000\n",
              "75%            4.000000      4.000000  ...     4.000000    4.000000\n",
              "max            5.000000      5.000000  ...     5.000000    5.000000\n",
              "\n",
              "[8 rows x 15 columns]"
            ]
          },
          "metadata": {
            "tags": []
          },
          "execution_count": 24
        }
      ]
    },
    {
      "cell_type": "code",
      "metadata": {
        "id": "cvdS3W_rb6c2"
      },
      "source": [
        "df_kadin=df[df[\"cinsiyet\"]==\"Kadin\"]"
      ],
      "execution_count": null,
      "outputs": []
    },
    {
      "cell_type": "code",
      "metadata": {
        "colab": {
          "base_uri": "https://localhost:8080/"
        },
        "id": "X8bSYCzdgdAH",
        "outputId": "1ebe68b3-87ed-4322-f5d9-1d85c0e78c3e"
      },
      "source": [
        "df_kadin[\"alisveris_tercih\"].value_counts()"
      ],
      "execution_count": null,
      "outputs": [
        {
          "output_type": "execute_result",
          "data": {
            "text/plain": [
              "Internet magazasi    103\n",
              "Fiziksel magaza       19\n",
              "Name: alisveris_tercih, dtype: int64"
            ]
          },
          "metadata": {
            "tags": []
          },
          "execution_count": 80
        }
      ]
    },
    {
      "cell_type": "markdown",
      "metadata": {
        "id": "4gI7jPtKhQIz"
      },
      "source": [
        "Cinsiyeti kadın olan 122 kişinin 103 tanesi alışverişlerini internetten tercih ediyor. 19 tanesi ise fiziksel mağaza tercih ediyor."
      ]
    },
    {
      "cell_type": "code",
      "metadata": {
        "id": "H2ZLvimckAbK"
      },
      "source": [
        "df_internet=df[df[\"alisveris_tercih\"]==\"Internet magazasi\"]"
      ],
      "execution_count": null,
      "outputs": []
    },
    {
      "cell_type": "code",
      "metadata": {
        "colab": {
          "base_uri": "https://localhost:8080/"
        },
        "id": "sZSX_VybkWNs",
        "outputId": "65dc1379-e45c-4ce3-efc0-6febcf18c2ae"
      },
      "source": [
        "df_internet[\"yas\"].value_counts()"
      ],
      "execution_count": null,
      "outputs": [
        {
          "output_type": "execute_result",
          "data": {
            "text/plain": [
              "19-29    112\n",
              "30-39     19\n",
              "0-18       6\n",
              "50+        5\n",
              "40-49      4\n",
              "Name: yas, dtype: int64"
            ]
          },
          "metadata": {
            "tags": []
          },
          "execution_count": 84
        }
      ]
    },
    {
      "cell_type": "code",
      "metadata": {
        "id": "JfPFGabbm-xC"
      },
      "source": [
        "df_satinalma = df[df[\"satin_alma\"]==\"Evet\"]"
      ],
      "execution_count": null,
      "outputs": []
    },
    {
      "cell_type": "code",
      "metadata": {
        "colab": {
          "base_uri": "https://localhost:8080/"
        },
        "id": "vcHiBv8HnKx_",
        "outputId": "4a533fe7-1b02-4d19-9a81-be342196f618"
      },
      "source": [
        "df_satinalma[\"cinsiyet\"].value_counts()"
      ],
      "execution_count": null,
      "outputs": [
        {
          "output_type": "execute_result",
          "data": {
            "text/plain": [
              "Kadin    77\n",
              "Erkek    35\n",
              "Name: cinsiyet, dtype: int64"
            ]
          },
          "metadata": {
            "tags": []
          },
          "execution_count": 86
        }
      ]
    },
    {
      "cell_type": "code",
      "metadata": {
        "colab": {
          "base_uri": "https://localhost:8080/"
        },
        "id": "-0mN9Cp-oMYW",
        "outputId": "555b3c7c-0673-44e5-f3c0-da86d076f940"
      },
      "source": [
        "df_satinalma[\"yas\"].value_counts()"
      ],
      "execution_count": null,
      "outputs": [
        {
          "output_type": "execute_result",
          "data": {
            "text/plain": [
              "19-29    80\n",
              "30-39    18\n",
              "0-18     11\n",
              "50+       2\n",
              "40-49     1\n",
              "Name: yas, dtype: int64"
            ]
          },
          "metadata": {
            "tags": []
          },
          "execution_count": 87
        }
      ]
    },
    {
      "cell_type": "code",
      "metadata": {
        "colab": {
          "base_uri": "https://localhost:8080/",
          "height": 204
        },
        "id": "sWO4FMGYuRO-",
        "outputId": "3347164b-f0b4-44f3-be4f-3d70fb7d4922"
      },
      "source": [
        "#df.guven.value_counts()\r\n",
        "g = df.guvenli_site\r\n",
        "pd.concat([g.value_counts(), \r\n",
        "            g.value_counts(normalize=True).mul(100)],axis=1, keys=('counts','percentage'))"
      ],
      "execution_count": null,
      "outputs": [
        {
          "output_type": "execute_result",
          "data": {
            "text/html": [
              "<div>\n",
              "<style scoped>\n",
              "    .dataframe tbody tr th:only-of-type {\n",
              "        vertical-align: middle;\n",
              "    }\n",
              "\n",
              "    .dataframe tbody tr th {\n",
              "        vertical-align: top;\n",
              "    }\n",
              "\n",
              "    .dataframe thead th {\n",
              "        text-align: right;\n",
              "    }\n",
              "</style>\n",
              "<table border=\"1\" class=\"dataframe\">\n",
              "  <thead>\n",
              "    <tr style=\"text-align: right;\">\n",
              "      <th></th>\n",
              "      <th>counts</th>\n",
              "      <th>percentage</th>\n",
              "    </tr>\n",
              "  </thead>\n",
              "  <tbody>\n",
              "    <tr>\n",
              "      <th>Katiliyorum</th>\n",
              "      <td>73</td>\n",
              "      <td>39.890710</td>\n",
              "    </tr>\n",
              "    <tr>\n",
              "      <th>Kesinlikle Katiliyorum</th>\n",
              "      <td>66</td>\n",
              "      <td>36.065574</td>\n",
              "    </tr>\n",
              "    <tr>\n",
              "      <th>Kararsizim</th>\n",
              "      <td>17</td>\n",
              "      <td>9.289617</td>\n",
              "    </tr>\n",
              "    <tr>\n",
              "      <th>Kesinlikle Katilmiyorum</th>\n",
              "      <td>14</td>\n",
              "      <td>7.650273</td>\n",
              "    </tr>\n",
              "    <tr>\n",
              "      <th>Katilmiyorum</th>\n",
              "      <td>13</td>\n",
              "      <td>7.103825</td>\n",
              "    </tr>\n",
              "  </tbody>\n",
              "</table>\n",
              "</div>"
            ],
            "text/plain": [
              "                         counts  percentage\n",
              "Katiliyorum                  73   39.890710\n",
              "Kesinlikle Katiliyorum       66   36.065574\n",
              "Kararsizim                   17    9.289617\n",
              "Kesinlikle Katilmiyorum      14    7.650273\n",
              "Katilmiyorum                 13    7.103825"
            ]
          },
          "metadata": {
            "tags": []
          },
          "execution_count": 111
        }
      ]
    },
    {
      "cell_type": "code",
      "metadata": {
        "id": "eiNH6VdZttZE",
        "colab": {
          "base_uri": "https://localhost:8080/"
        },
        "outputId": "d4c27675-fef5-4ec6-8b42-84a11ae2a158"
      },
      "source": [
        "#en yüksek ortalama puana sahip kategori\n",
        "print(\"En yüksek ortalama puana sahip kategori:\",df.mean().idxmax(),\n",
        "      \"\\nPuan: {:.2f}\".format(df.mean().max()))"
      ],
      "execution_count": null,
      "outputs": [
        {
          "output_type": "stream",
          "text": [
            "En yüksek ortalama puana sahip kategori: bulunabilirlik \n",
            "Puan: 3.73\n"
          ],
          "name": "stdout"
        }
      ]
    },
    {
      "cell_type": "code",
      "metadata": {
        "id": "O2OttIE4ttZE",
        "colab": {
          "base_uri": "https://localhost:8080/"
        },
        "outputId": "bf28087f-f3e3-4cae-fb19-37cbfc1f1da8"
      },
      "source": [
        "#en dusuk ortalama puana sahip kategori\n",
        "print(\"En düşük ortalama puana sahip kategori:\",df.mean().idxmin(),\n",
        "      \"\\nPuan: {:.2f}\".format(df.mean().min()))"
      ],
      "execution_count": null,
      "outputs": [
        {
          "output_type": "stream",
          "text": [
            "En düşük ortalama puana sahip kategori: indirim \n",
            "Puan: 2.20\n"
          ],
          "name": "stdout"
        }
      ]
    },
    {
      "cell_type": "code",
      "metadata": {
        "id": "0yhV3QgsDG7a"
      },
      "source": [
        "%matplotlib inline \n",
        "#Oluşturduğumuz grafiklerin output olarak gözükmesi için."
      ],
      "execution_count": null,
      "outputs": []
    },
    {
      "cell_type": "code",
      "metadata": {
        "id": "NwTmi-lBttZE",
        "colab": {
          "base_uri": "https://localhost:8080/",
          "height": 295
        },
        "outputId": "81be1921-6cb4-450e-b055-05bce653c420"
      },
      "source": [
        "#gelir ve yas \n",
        "sns.set_palette(\"husl\")\n",
        "ax = sns.lineplot(x=df.yas, y=df.gelir)\n",
        "ax.invert_yaxis()\n",
        "ax.set_title('Yaşa göre gelir durumları');"
      ],
      "execution_count": null,
      "outputs": [
        {
          "output_type": "display_data",
          "data": {
            "image/png": "[encoded data removed]",
            "text/plain": [
              "<Figure size 432x288 with 1 Axes>"
            ]
          },
          "metadata": {
            "tags": [],
            "needs_background": "light"
          }
        }
      ]
    },
    {
      "cell_type": "code",
      "metadata": {
        "id": "qctpwFUgttZE",
        "colab": {
          "base_uri": "https://localhost:8080/",
          "height": 387
        },
        "outputId": "80afeb8c-1cee-4e8b-916e-9e867c900d7e"
      },
      "source": [
        "ax=sns.relplot(x=df.gelir, y=df.satin_alma, kind=\"line\", aspect=2, ci=100, markers=True)\n",
        "ax.fig.suptitle(\"Gelire göre satın alma artışı (Evet/Hayır)\");"
      ],
      "execution_count": null,
      "outputs": [
        {
          "output_type": "display_data",
          "data": {
            "image/png": "[encoded data removed]",
            "text/plain": [
              "<Figure size 720x360 with 1 Axes>"
            ]
          },
          "metadata": {
            "tags": [],
            "needs_background": "light"
          }
        }
      ]
    },
    {
      "cell_type": "markdown",
      "metadata": {
        "id": "Re266c0VttZF"
      },
      "source": [
        "### **Regresyon Analizi**"
      ]
    },
    {
      "cell_type": "code",
      "metadata": {
        "id": "gsUQNk1QttZF",
        "colab": {
          "base_uri": "https://localhost:8080/",
          "height": 296
        },
        "outputId": "f5e2a40b-82f3-4d02-e385-c6729c16e5e4"
      },
      "source": [
        "sns.regplot(x=df.genel_memnuniyet, y=df.satici_ilgisi, ci=100).set_title(\"Genel memnuniyet ile satıcı ilgisi ilişkisi\");"
      ],
      "execution_count": null,
      "outputs": [
        {
          "output_type": "display_data",
          "data": {
            "image/png": "[encoded data removed]",
            "text/plain": [
              "<Figure size 432x288 with 1 Axes>"
            ]
          },
          "metadata": {
            "tags": [],
            "needs_background": "light"
          }
        }
      ]
    },
    {
      "cell_type": "code",
      "metadata": {
        "id": "fWi7d291ttZF",
        "colab": {
          "base_uri": "https://localhost:8080/",
          "height": 296
        },
        "outputId": "4964d671-e1a9-4245-d75b-05bb34f25928"
      },
      "source": [
        "sns.regplot(x=df.bulunabilirlik, y=df.zamaninda_teslim, ci=100).set_title(\"Ürünlerin bulunabilirliği ile zamanında teslimat ilişkisi\");"
      ],
      "execution_count": null,
      "outputs": [
        {
          "output_type": "display_data",
          "data": {
            "image/png": "[encoded data removed]",
            "text/plain": [
              "<Figure size 432x288 with 1 Axes>"
            ]
          },
          "metadata": {
            "tags": [],
            "needs_background": "light"
          }
        }
      ]
    },
    {
      "cell_type": "code",
      "metadata": {
        "id": "jmm9m5EZttZF",
        "colab": {
          "base_uri": "https://localhost:8080/",
          "height": 295
        },
        "outputId": "bea90f8d-d5e9-4dfc-ddea-262c78f66526"
      },
      "source": [
        "sns.regplot(x=df.ambalaj, y=df.kalite, ci=100).set_title(\"Ambalaj memnuniyeti ile ürün kalitesi ilişkisi\");"
      ],
      "execution_count": null,
      "outputs": [
        {
          "output_type": "display_data",
          "data": {
            "image/png": "[encoded data removed]",
            "text/plain": [
              "<Figure size 432x288 with 1 Axes>"
            ]
          },
          "metadata": {
            "tags": [],
            "needs_background": "light"
          }
        }
      ]
    },
    {
      "cell_type": "code",
      "metadata": {
        "id": "C4cS5GIVttZG",
        "colab": {
          "base_uri": "https://localhost:8080/",
          "height": 296
        },
        "outputId": "79e438b1-4361-4cdf-a89a-d77da189c710"
      },
      "source": [
        "sns.regplot(x=df.genel_memnuniyet, y=df.kalite, ci=100).set_title(\"Genel memnuniyet ile ürün kalitesi ilişkisi\");"
      ],
      "execution_count": null,
      "outputs": [
        {
          "output_type": "display_data",
          "data": {
            "image/png": "[encoded data removed]",
            "text/plain": [
              "<Figure size 432x288 with 1 Axes>"
            ]
          },
          "metadata": {
            "tags": [],
            "needs_background": "light"
          }
        }
      ]
    },
    {
      "cell_type": "code",
      "metadata": {
        "id": "tG4WFbA7ttZG",
        "colab": {
          "base_uri": "https://localhost:8080/",
          "height": 296
        },
        "outputId": "e45ab29c-ebee-4479-c90c-aa883992e11c"
      },
      "source": [
        "sns.regplot(x=df.genel_memnuniyet, y=df.odeme, ci=100).set_title(\"Genel memnuniyet ile ödeme yöntemi güvenilirliği ilişkisi\");"
      ],
      "execution_count": null,
      "outputs": [
        {
          "output_type": "display_data",
          "data": {
            "image/png": "[encoded data removed]",
            "text/plain": [
              "<Figure size 432x288 with 1 Axes>"
            ]
          },
          "metadata": {
            "tags": [],
            "needs_background": "light"
          }
        }
      ]
    },
    {
      "cell_type": "code",
      "metadata": {
        "id": "HN2WrYLIttZG",
        "colab": {
          "base_uri": "https://localhost:8080/",
          "height": 296
        },
        "outputId": "4e54ed7b-8058-4ff8-df59-bd3ce718181d"
      },
      "source": [
        "sns.regplot(x=df.satici_ilgisi, y=df.degisim, ci=100).set_title(\"Satıcı ilgisi ile ürün değişim/iade memnuniyeti ilişkisi\");"
      ],
      "execution_count": null,
      "outputs": [
        {
          "output_type": "display_data",
          "data": {
            "image/png": "[encoded data removed]",
            "text/plain": [
              "<Figure size 432x288 with 1 Axes>"
            ]
          },
          "metadata": {
            "tags": [],
            "needs_background": "light"
          }
        }
      ]
    },
    {
      "cell_type": "code",
      "metadata": {
        "id": "c4pax-htttZG",
        "colab": {
          "base_uri": "https://localhost:8080/",
          "height": 296
        },
        "outputId": "d5d5e5b2-2b82-49e5-9837-89c0d2961b44"
      },
      "source": [
        "sns.regplot(x=df.kargo_hizmet, y=df.zamaninda_teslim, ci=100).set_title(\"Kargo hizmeti memnuniyeti ile zamanında teslimat memnuniyeti ilişkisi\");"
      ],
      "execution_count": null,
      "outputs": [
        {
          "output_type": "display_data",
          "data": {
            "image/png": "[encoded data removed]",
            "text/plain": [
              "<Figure size 432x288 with 1 Axes>"
            ]
          },
          "metadata": {
            "tags": [],
            "needs_background": "light"
          }
        }
      ]
    },
    {
      "cell_type": "code",
      "metadata": {
        "id": "qfEUE6cUttZH",
        "colab": {
          "base_uri": "https://localhost:8080/",
          "height": 384
        },
        "outputId": "a4a969f4-def9-43c3-bf9b-d0c9b57a9b4c"
      },
      "source": [
        "ax = sns.swarmplot(x=df.satin_alma, y=df.genel_memnuniyet);\n",
        "ax.set_title(\"Genel memnuniyetin, satın alma artışı durumuna göre değişimi\");"
      ],
      "execution_count": null,
      "outputs": [
        {
          "output_type": "stream",
          "text": [
            "/usr/local/lib/python3.6/dist-packages/seaborn/categorical.py:1296: UserWarning: 37.5% of the points cannot be placed; you may want to decrease the size of the markers or use stripplot.\n",
            "  warnings.warn(msg, UserWarning)\n",
            "/usr/local/lib/python3.6/dist-packages/seaborn/categorical.py:1296: UserWarning: 12.7% of the points cannot be placed; you may want to decrease the size of the markers or use stripplot.\n",
            "  warnings.warn(msg, UserWarning)\n"
          ],
          "name": "stderr"
        },
        {
          "output_type": "display_data",
          "data": {
            "image/png": "[encoded data removed]",
            "text/plain": [
              "<Figure size 432x288 with 1 Axes>"
            ]
          },
          "metadata": {
            "tags": [],
            "needs_background": "light"
          }
        }
      ]
    },
    {
      "cell_type": "code",
      "metadata": {
        "id": "PWMAEF8LttZH",
        "colab": {
          "base_uri": "https://localhost:8080/",
          "height": 400
        },
        "outputId": "f5f01b0f-605c-4311-9fc2-fd5e1d756299"
      },
      "source": [
        "ax=sns.lmplot(x=\"zamaninda_teslim\", y=\"kargo_hizmet\", hue=\"satin_alma\", data=df,palette=\"Set1\",markers=[\"o\",\"x\"])\n",
        "ax = plt.gca()\n",
        "ax.set_title(\"Zamanında teslim memnuniyeti, kargo hizmeti memnuniyeti ve satın alma artışı durumu arasındaki ilişki\");"
      ],
      "execution_count": null,
      "outputs": [
        {
          "output_type": "display_data",
          "data": {
            "image/png": "[encoded data removed]",
            "text/plain": [
              "<Figure size 422.5x360 with 1 Axes>"
            ]
          },
          "metadata": {
            "tags": [],
            "needs_background": "light"
          }
        }
      ]
    },
    {
      "cell_type": "markdown",
      "metadata": {
        "id": "kVc-zTCzttZH"
      },
      "source": [
        "### **Korelasyon Analizi**"
      ]
    },
    {
      "cell_type": "code",
      "metadata": {
        "id": "vdBIi86EttZH",
        "colab": {
          "base_uri": "https://localhost:8080/",
          "height": 580
        },
        "outputId": "19c5c92b-bb69-4546-ad76-0d78c5193fa3"
      },
      "source": [
        "plt.figure(figsize=(16,9))\n",
        "correlation=df.corr()\n",
        "sns.heatmap(correlation, annot=True,cmap=\"BuPu\");\n",
        "plt.title(\"Değişkenler Arasındaki Korelasyonlar\");"
      ],
      "execution_count": null,
      "outputs": [
        {
          "output_type": "display_data",
          "data": {
            "image/png": "[encoded data removed]",
            "text/plain": [
              "<Figure size 1152x648 with 2 Axes>"
            ]
          },
          "metadata": {
            "tags": [],
            "needs_background": "light"
          }
        }
      ]
    },
    {
      "cell_type": "markdown",
      "metadata": {
        "id": "j3xaiv3lttZH"
      },
      "source": [
        "# **Hipotez Testleri**  "
      ]
    },
    {
      "cell_type": "markdown",
      "metadata": {
        "id": "7U_S4oxYDyUO"
      },
      "source": [
        "### **Dönüşüm Oranı Testi**"
      ]
    },
    {
      "cell_type": "markdown",
      "metadata": {
        "id": "ciNMZlFTttZI"
      },
      "source": [
        "Problem: İnternet üzerinden yapılan anket sonucunda pandemi döneminde alışveriş sıklığının arttığına dair 0.35 dönüşüm oranı elde edildiği ifade edilmiş. Fakat bu durum kontrol edilmek isteniyor. Çünkü bu düşük bir oran ve e-ticaret sitelerinin açıkladığı veriler ile örtüşmüyor.\n",
        "\n",
        "Detaylar:\n",
        " - 183 kişi ankete yanıt vermiş, 112 kişi alışveriş sıklığının arttığını belirtmiş.\n",
        " - Anket üzerinden elde edilen dönüşüm oranı: 112/183 = 0,612\n",
        "\n",
        " \n",
        "<d><i>H</i><sub>0</sub>: <i>P</i> = <i>0.35</i></d><br>\n",
        "<d><i>H</i><sub>1</sub>: <i>P</i> != <i>0.35</i></d><br><br>"
      ]
    },
    {
      "cell_type": "code",
      "metadata": {
        "id": "auibkXKbttZI",
        "colab": {
          "base_uri": "https://localhost:8080/"
        },
        "outputId": "5ed7a83e-18a3-4491-b8af-057937d69f83"
      },
      "source": [
        "df.satin_alma.value_counts()"
      ],
      "execution_count": null,
      "outputs": [
        {
          "output_type": "execute_result",
          "data": {
            "text/plain": [
              "Evet     112\n",
              "Hayir     71\n",
              "Name: satin_alma, dtype: int64"
            ]
          },
          "metadata": {
            "tags": []
          },
          "execution_count": 40
        }
      ]
    },
    {
      "cell_type": "code",
      "metadata": {
        "id": "hLMGMdhwttZI"
      },
      "source": [
        "count = 112 #arttığını söyleyen müşteri sayısı\n",
        "nobs = 183 #gözlem sayısı\n",
        "value = 0.35 #test etmek istediğimiz oran"
      ],
      "execution_count": null,
      "outputs": []
    },
    {
      "cell_type": "code",
      "metadata": {
        "id": "cjHHhvArttZI"
      },
      "source": [
        "ttest, pvalue = proportions_ztest(count, nobs, value)"
      ],
      "execution_count": null,
      "outputs": []
    },
    {
      "cell_type": "code",
      "metadata": {
        "id": "OA70T_J0ttZI",
        "colab": {
          "base_uri": "https://localhost:8080/"
        },
        "outputId": "4cd9acf1-bb0a-4b0a-8079-747f16eb847c"
      },
      "source": [
        "if pvalue<0.05:\n",
        "    print(\"H0 hipotezi reddedilmiştir. %95 güven ile 0.35 değerinin yanlış olduğunu söyleyebiliriz.\")\n",
        "    \n",
        "print(\"pvalue: {:.3f}\".format(pvalue))"
      ],
      "execution_count": null,
      "outputs": [
        {
          "output_type": "stream",
          "text": [
            "H0 hipotezi reddedilmiştir. %95 güven ile 0.35 değerinin yanlış olduğunu söyleyebiliriz.\n",
            "pvalue: 0.000\n"
          ],
          "name": "stdout"
        }
      ]
    },
    {
      "cell_type": "markdown",
      "metadata": {
        "id": "3G2KPwt1ttZJ"
      },
      "source": [
        "### **Normallik Varsayımı**"
      ]
    },
    {
      "cell_type": "code",
      "metadata": {
        "id": "kzsNUBMFttZJ"
      },
      "source": [
        "olcumler = df.kalite.values"
      ],
      "execution_count": null,
      "outputs": []
    },
    {
      "cell_type": "code",
      "metadata": {
        "id": "lAnJKZcnttZJ",
        "colab": {
          "base_uri": "https://localhost:8080/"
        },
        "outputId": "d0b9e595-6c7a-4959-f33e-890539e49ca7"
      },
      "source": [
        "olcumler"
      ],
      "execution_count": null,
      "outputs": [
        {
          "output_type": "execute_result",
          "data": {
            "text/plain": [
              "array([5, 4, 3, 3, 3, 4, 4, 3, 2, 3, 3, 2, 4, 3, 4, 3, 3, 4, 2, 4, 5, 4,\n",
              "       4, 3, 3, 3, 1, 5, 4, 4, 4, 4, 3, 3, 3, 4, 4, 4, 3, 3, 4, 3, 3, 3,\n",
              "       3, 4, 4, 3, 3, 2, 3, 5, 1, 3, 4, 4, 3, 4, 1, 4, 4, 3, 2, 3, 3, 5,\n",
              "       4, 3, 4, 3, 4, 4, 3, 4, 2, 4, 3, 5, 5, 4, 4, 5, 3, 2, 3, 4, 3, 4,\n",
              "       2, 2, 3, 3, 3, 3, 4, 3, 4, 4, 4, 3, 2, 2, 4, 3, 3, 3, 4, 3, 3, 4,\n",
              "       4, 4, 2, 3, 4, 3, 3, 3, 4, 4, 3, 4, 3, 4, 5, 4, 4, 2, 3, 4, 3, 3,\n",
              "       3, 2, 2, 4, 3, 4, 3, 5, 4, 3, 3, 3, 4, 4, 4, 3, 3, 3, 4, 2, 4, 3,\n",
              "       4, 4, 2, 2, 4, 2, 1, 4, 3, 1, 2, 4, 3, 5, 4, 4, 1, 4, 4, 3, 5, 5,\n",
              "       4, 4, 3, 4, 5, 5, 3])"
            ]
          },
          "metadata": {
            "tags": []
          },
          "execution_count": 45
        }
      ]
    },
    {
      "cell_type": "code",
      "metadata": {
        "id": "XXgRm_k4ttZJ",
        "colab": {
          "base_uri": "https://localhost:8080/"
        },
        "outputId": "6f54e330-1063-45d2-a019-2c579bd74039"
      },
      "source": [
        "stats.describe(olcumler)"
      ],
      "execution_count": null,
      "outputs": [
        {
          "output_type": "execute_result",
          "data": {
            "text/plain": [
              "DescribeResult(nobs=183, minmax=(1, 5), mean=3.377049180327869, variance=0.818591244820753, skewness=-0.4116170951261091, kurtosis=0.13026197872755985)"
            ]
          },
          "metadata": {
            "tags": []
          },
          "execution_count": 46
        }
      ]
    },
    {
      "cell_type": "markdown",
      "metadata": {
        "id": "g6_juLPTttZJ"
      },
      "source": [
        "kalite puan ortalamasının 3.37 olduğunu görüyoruz."
      ]
    },
    {
      "cell_type": "markdown",
      "metadata": {
        "id": "Yur2pVCDDdbm"
      },
      "source": [
        "#### **Histogram**"
      ]
    },
    {
      "cell_type": "code",
      "metadata": {
        "colab": {
          "base_uri": "https://localhost:8080/",
          "height": 319
        },
        "id": "648NE5kklBXv",
        "outputId": "eb417d41-f565-4f9e-9ad6-371ab5380240"
      },
      "source": [
        "data_hist = pd.DataFrame(olcumler)\n",
        "sns.distplot(data_hist, bins=5, kde=True);"
      ],
      "execution_count": null,
      "outputs": [
        {
          "output_type": "stream",
          "text": [
            "/usr/local/lib/python3.6/dist-packages/seaborn/distributions.py:2551: FutureWarning: `distplot` is a deprecated function and will be removed in a future version. Please adapt your code to use either `displot` (a figure-level function with similar flexibility) or `histplot` (an axes-level function for histograms).\n",
            "  warnings.warn(msg, FutureWarning)\n"
          ],
          "name": "stderr"
        },
        {
          "output_type": "display_data",
          "data": {
            "image/png": "[encoded data removed]",
            "text/plain": [
              "<Figure size 432x288 with 1 Axes>"
            ]
          },
          "metadata": {
            "tags": [],
            "needs_background": "light"
          }
        }
      ]
    },
    {
      "cell_type": "code",
      "metadata": {
        "id": "6RdPqv-ittZJ",
        "colab": {
          "base_uri": "https://localhost:8080/",
          "height": 265
        },
        "outputId": "6d1fed2c-c356-4b81-b44e-f3474d13f863"
      },
      "source": [
        "pd.DataFrame(olcumler).plot.hist();"
      ],
      "execution_count": null,
      "outputs": [
        {
          "output_type": "display_data",
          "data": {
            "image/png": "[encoded data removed]",
            "text/plain": [
              "<Figure size 432x288 with 1 Axes>"
            ]
          },
          "metadata": {
            "tags": [],
            "needs_background": "light"
          }
        }
      ]
    },
    {
      "cell_type": "markdown",
      "metadata": {
        "id": "2Md_wYhattZK"
      },
      "source": [
        "#### **Shapiro-Wilks Testi**"
      ]
    },
    {
      "cell_type": "markdown",
      "metadata": {
        "id": "_CyDDs66ttZK"
      },
      "source": [
        "**H0:** Örnek dağılımı ile teorik normal dağılım arasında istatistiksel olarak\n",
        "anlamlı bir farklılık yoktur.  \n",
        "**H1:** Örnek dağılımı ile teorik normal dağılım arasında istatistiksel olarak\n",
        "anlamlı bir farklılık vardır."
      ]
    },
    {
      "cell_type": "code",
      "metadata": {
        "id": "0LSs86cAttZK"
      },
      "source": [
        "shap = shapiro(olcumler)"
      ],
      "execution_count": null,
      "outputs": []
    },
    {
      "cell_type": "code",
      "metadata": {
        "id": "0RiTuHC3ttZK",
        "colab": {
          "base_uri": "https://localhost:8080/"
        },
        "outputId": "af4cc020-2739-492c-d933-ee776951b649"
      },
      "source": [
        "if shap[1] < 0.05:\n",
        "    print(\"p-value:\",shap[1])\n",
        "    print(\"p-value değeri 0.05'den küçük olduğundan H0 hipotezi reddedilir. T Testi yapılamaz.\")"
      ],
      "execution_count": null,
      "outputs": [
        {
          "output_type": "stream",
          "text": [
            "p-value: 7.901066606530449e-11\n",
            "p-value değeri 0.05'den küçük olduğundan H0 hipotezi reddedilir. T Testi yapılamaz.\n"
          ],
          "name": "stdout"
        }
      ]
    },
    {
      "cell_type": "code",
      "metadata": {
        "id": "0JSFE_xmttZK",
        "colab": {
          "base_uri": "https://localhost:8080/",
          "height": 317
        },
        "outputId": "ae6e4855-523d-46fb-93be-bd8577ce067b"
      },
      "source": [
        "df.describe()"
      ],
      "execution_count": null,
      "outputs": [
        {
          "output_type": "execute_result",
          "data": {
            "text/html": [
              "<div>\n",
              "<style scoped>\n",
              "    .dataframe tbody tr th:only-of-type {\n",
              "        vertical-align: middle;\n",
              "    }\n",
              "\n",
              "    .dataframe tbody tr th {\n",
              "        vertical-align: top;\n",
              "    }\n",
              "\n",
              "    .dataframe thead th {\n",
              "        text-align: right;\n",
              "    }\n",
              "</style>\n",
              "<table border=\"1\" class=\"dataframe\">\n",
              "  <thead>\n",
              "    <tr style=\"text-align: right;\">\n",
              "      <th></th>\n",
              "      <th>genel_memnuniyet</th>\n",
              "      <th>kargo_hizmet</th>\n",
              "      <th>odeme</th>\n",
              "      <th>zamaninda_teslim</th>\n",
              "      <th>kalite</th>\n",
              "      <th>degisim</th>\n",
              "      <th>satici_ilgisi</th>\n",
              "      <th>hijyen</th>\n",
              "      <th>bulunabilirlik</th>\n",
              "      <th>fiyat_fark</th>\n",
              "      <th>indirim</th>\n",
              "      <th>beden</th>\n",
              "      <th>kisisel_veri</th>\n",
              "      <th>kalite_benz</th>\n",
              "      <th>ambalaj</th>\n",
              "    </tr>\n",
              "  </thead>\n",
              "  <tbody>\n",
              "    <tr>\n",
              "      <th>count</th>\n",
              "      <td>183.000000</td>\n",
              "      <td>183.000000</td>\n",
              "      <td>183.000000</td>\n",
              "      <td>183.000000</td>\n",
              "      <td>183.000000</td>\n",
              "      <td>183.000000</td>\n",
              "      <td>183.000000</td>\n",
              "      <td>183.000000</td>\n",
              "      <td>183.000000</td>\n",
              "      <td>183.000000</td>\n",
              "      <td>183.000000</td>\n",
              "      <td>183.000000</td>\n",
              "      <td>183.000000</td>\n",
              "      <td>183.000000</td>\n",
              "      <td>183.000000</td>\n",
              "    </tr>\n",
              "    <tr>\n",
              "      <th>mean</th>\n",
              "      <td>3.601093</td>\n",
              "      <td>2.950820</td>\n",
              "      <td>3.633880</td>\n",
              "      <td>3.202186</td>\n",
              "      <td>3.377049</td>\n",
              "      <td>3.480874</td>\n",
              "      <td>3.147541</td>\n",
              "      <td>3.109290</td>\n",
              "      <td>3.726776</td>\n",
              "      <td>3.535519</td>\n",
              "      <td>2.196721</td>\n",
              "      <td>3.087432</td>\n",
              "      <td>2.901639</td>\n",
              "      <td>3.437158</td>\n",
              "      <td>3.371585</td>\n",
              "    </tr>\n",
              "    <tr>\n",
              "      <th>std</th>\n",
              "      <td>0.907477</td>\n",
              "      <td>1.075597</td>\n",
              "      <td>1.038992</td>\n",
              "      <td>1.057467</td>\n",
              "      <td>0.904760</td>\n",
              "      <td>1.152358</td>\n",
              "      <td>1.131508</td>\n",
              "      <td>1.073697</td>\n",
              "      <td>1.038646</td>\n",
              "      <td>1.098248</td>\n",
              "      <td>1.106718</td>\n",
              "      <td>1.012561</td>\n",
              "      <td>1.100024</td>\n",
              "      <td>0.986244</td>\n",
              "      <td>1.060614</td>\n",
              "    </tr>\n",
              "    <tr>\n",
              "      <th>min</th>\n",
              "      <td>1.000000</td>\n",
              "      <td>1.000000</td>\n",
              "      <td>1.000000</td>\n",
              "      <td>1.000000</td>\n",
              "      <td>1.000000</td>\n",
              "      <td>1.000000</td>\n",
              "      <td>1.000000</td>\n",
              "      <td>1.000000</td>\n",
              "      <td>1.000000</td>\n",
              "      <td>1.000000</td>\n",
              "      <td>1.000000</td>\n",
              "      <td>1.000000</td>\n",
              "      <td>1.000000</td>\n",
              "      <td>1.000000</td>\n",
              "      <td>1.000000</td>\n",
              "    </tr>\n",
              "    <tr>\n",
              "      <th>25%</th>\n",
              "      <td>3.000000</td>\n",
              "      <td>2.000000</td>\n",
              "      <td>3.000000</td>\n",
              "      <td>3.000000</td>\n",
              "      <td>3.000000</td>\n",
              "      <td>3.000000</td>\n",
              "      <td>2.000000</td>\n",
              "      <td>2.000000</td>\n",
              "      <td>3.000000</td>\n",
              "      <td>3.000000</td>\n",
              "      <td>1.000000</td>\n",
              "      <td>2.000000</td>\n",
              "      <td>2.000000</td>\n",
              "      <td>3.000000</td>\n",
              "      <td>3.000000</td>\n",
              "    </tr>\n",
              "    <tr>\n",
              "      <th>50%</th>\n",
              "      <td>4.000000</td>\n",
              "      <td>3.000000</td>\n",
              "      <td>4.000000</td>\n",
              "      <td>3.000000</td>\n",
              "      <td>3.000000</td>\n",
              "      <td>4.000000</td>\n",
              "      <td>3.000000</td>\n",
              "      <td>3.000000</td>\n",
              "      <td>4.000000</td>\n",
              "      <td>4.000000</td>\n",
              "      <td>2.000000</td>\n",
              "      <td>3.000000</td>\n",
              "      <td>3.000000</td>\n",
              "      <td>4.000000</td>\n",
              "      <td>4.000000</td>\n",
              "    </tr>\n",
              "    <tr>\n",
              "      <th>75%</th>\n",
              "      <td>4.000000</td>\n",
              "      <td>4.000000</td>\n",
              "      <td>4.000000</td>\n",
              "      <td>4.000000</td>\n",
              "      <td>4.000000</td>\n",
              "      <td>4.000000</td>\n",
              "      <td>4.000000</td>\n",
              "      <td>4.000000</td>\n",
              "      <td>5.000000</td>\n",
              "      <td>4.000000</td>\n",
              "      <td>3.000000</td>\n",
              "      <td>4.000000</td>\n",
              "      <td>4.000000</td>\n",
              "      <td>4.000000</td>\n",
              "      <td>4.000000</td>\n",
              "    </tr>\n",
              "    <tr>\n",
              "      <th>max</th>\n",
              "      <td>5.000000</td>\n",
              "      <td>5.000000</td>\n",
              "      <td>5.000000</td>\n",
              "      <td>5.000000</td>\n",
              "      <td>5.000000</td>\n",
              "      <td>5.000000</td>\n",
              "      <td>5.000000</td>\n",
              "      <td>5.000000</td>\n",
              "      <td>5.000000</td>\n",
              "      <td>5.000000</td>\n",
              "      <td>5.000000</td>\n",
              "      <td>5.000000</td>\n",
              "      <td>5.000000</td>\n",
              "      <td>5.000000</td>\n",
              "      <td>5.000000</td>\n",
              "    </tr>\n",
              "  </tbody>\n",
              "</table>\n",
              "</div>"
            ],
            "text/plain": [
              "       genel_memnuniyet  kargo_hizmet  ...  kalite_benz     ambalaj\n",
              "count        183.000000    183.000000  ...   183.000000  183.000000\n",
              "mean           3.601093      2.950820  ...     3.437158    3.371585\n",
              "std            0.907477      1.075597  ...     0.986244    1.060614\n",
              "min            1.000000      1.000000  ...     1.000000    1.000000\n",
              "25%            3.000000      2.000000  ...     3.000000    3.000000\n",
              "50%            4.000000      3.000000  ...     4.000000    4.000000\n",
              "75%            4.000000      4.000000  ...     4.000000    4.000000\n",
              "max            5.000000      5.000000  ...     5.000000    5.000000\n",
              "\n",
              "[8 rows x 15 columns]"
            ]
          },
          "metadata": {
            "tags": []
          },
          "execution_count": 51
        }
      ]
    },
    {
      "cell_type": "markdown",
      "metadata": {
        "id": "R7Ogw78yDpkI"
      },
      "source": [
        "### **Korelasyon Testi**"
      ]
    },
    {
      "cell_type": "markdown",
      "metadata": {
        "id": "mbSoSVSvLDh-"
      },
      "source": [
        "#### **Pearson's Korelasyon Katsayısı**\n",
        "\n",
        "\n"
      ]
    },
    {
      "cell_type": "markdown",
      "metadata": {
        "id": "HTOFzb0BLO83"
      },
      "source": [
        "İki örneğin doğrusal bir ilişkisi olup olmadığını test eder.\n",
        "\n",
        "**Varsayımlar**\n",
        "* Her örnekteki gözlemler bağımsızdır ve aynı şekilde dağıtılmıştır.\n",
        "* Her örnekteki gözlemler normal olarak dağıtılmıştır.\n",
        "* Her örnekteki gözlemler aynı varyansa sahiptir.\n",
        "\n",
        "**Yorumlama**\n",
        "* H0: iki örnek bağımsızdır.\n",
        "* H1: Örnekler arasında bağımlılık vardır.\n"
      ]
    },
    {
      "cell_type": "code",
      "metadata": {
        "id": "AuUCk9Y1ttZK",
        "colab": {
          "base_uri": "https://localhost:8080/"
        },
        "outputId": "b0e73518-e45a-4977-da8b-4240468bfead"
      },
      "source": [
        "kalite_data = df.kalite.values\n",
        "genel_memnuniyet_data = df.genel_memnuniyet.values\n",
        "\n",
        "stat, p = pearsonr(kalite_data, genel_memnuniyet_data)\n",
        "\n",
        "print(\"stat= {:.3f}, p= {:.3f}\".format(stat, p))\n",
        "\n",
        "if p > 0.05:\n",
        "  print(\"Kalite ve Genel Memnuniyet muhtemelen bağımsızdır.\")\n",
        "else:\n",
        "  print(\"Kalite ve Genel Memnuniyet muhtemelen bağımlıdır.\")"
      ],
      "execution_count": null,
      "outputs": [
        {
          "output_type": "stream",
          "text": [
            "stat= 0.699, p= 0.000\n",
            "Kalite ve Genel Memnuniyet muhtemelen bağımlıdır.\n"
          ],
          "name": "stdout"
        }
      ]
    },
    {
      "cell_type": "markdown",
      "metadata": {
        "id": "cXtfnNhJMGrj"
      },
      "source": [
        "#### **Spearman's Rank Korelasyonu**\n"
      ]
    },
    {
      "cell_type": "markdown",
      "metadata": {
        "id": "dijqagxcMXRV"
      },
      "source": [
        "İki örneğin tekdüze bir ilişkisi olup olmadığını test eder.\n",
        "\n",
        "**Varsayımlar**\n",
        "* Her örnekteki gözlemler bağımsızdır ve aynı şekilde dağıtılmıştır.\n",
        "* Her örnekteki gözlemler sıralanabilir.\n",
        "\n",
        "**Yorumlama**\n",
        "* H0: iki örnek bağımsızdır.\n",
        "* H1: Örnekler arasında bağımlılık vardır.\n",
        "\n"
      ]
    },
    {
      "cell_type": "code",
      "metadata": {
        "colab": {
          "base_uri": "https://localhost:8080/"
        },
        "id": "XnJHEyb3L6ST",
        "outputId": "f33510cf-c0f3-44a0-ff31-5ad5e6e704d1"
      },
      "source": [
        "gelir_data = df.gelir.values\n",
        "satin_alma_data = df.satin_alma.values\n",
        "\n",
        "stat, p = spearmanr(gelir_data, satin_alma_data)\n",
        "\n",
        "print(\"stat= {:.3f}, p= {:.3f}\".format(stat, p))\n",
        "\n",
        "if p > 0.05:\n",
        "  print(\"Gelir ve satın alma artışı muhtemelen bağımsızdır.\")\n",
        "else:\n",
        "  print(\"Gelir ve satın alma artışı muhtemelen bağımlıdır.\")"
      ],
      "execution_count": null,
      "outputs": [
        {
          "output_type": "stream",
          "text": [
            "stat= 0.106, p= 0.152\n",
            "Gelir ve satın alma artışı muhtemelen bağımsızdır.\n"
          ],
          "name": "stdout"
        }
      ]
    },
    {
      "cell_type": "code",
      "metadata": {
        "id": "wv93bvZXM7Jo"
      },
      "source": [
        ""
      ],
      "execution_count": null,
      "outputs": []
    }
  ]
}